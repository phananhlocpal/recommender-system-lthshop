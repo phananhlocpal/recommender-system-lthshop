{
 "cells": [
  {
   "cell_type": "markdown",
   "metadata": {
    "id": "Dl8YjJ5lr8hA"
   },
   "source": [
    "## Generate cartItems dataset"
   ]
  },
  {
   "cell_type": "code",
   "execution_count": 4,
   "metadata": {
    "colab": {
     "base_uri": "https://localhost:8080/"
    },
    "executionInfo": {
     "elapsed": 339,
     "status": "ok",
     "timestamp": 1734658665495,
     "user": {
      "displayName": "Lộc Phan Anh",
      "userId": "03780309822244232090"
     },
     "user_tz": -420
    },
    "id": "To-VPE_Fq5cY",
    "outputId": "9ab8a7dd-1ae4-4e30-87be-f7ebf94d211e"
   },
   "outputs": [
    {
     "name": "stdout",
     "output_type": "stream",
     "text": [
      "Generated 500 unique cart records\n",
      "     CartItemID  CustomerID  ProductSizeID  Quantity\n",
      "458         459           1             24         1\n",
      "187         188           1             22         4\n",
      "213         214           1             18         1\n",
      "421         422           1              9         5\n",
      "150         151           1              1         5\n"
     ]
    }
   ],
   "source": [
    "import pandas as pd\n",
    "import numpy as np\n",
    "\n",
    "# Set seed for reproducibility\n",
    "np.random.seed(42)\n",
    "\n",
    "# Create unique combinations\n",
    "customer_product_pairs = []\n",
    "records = []\n",
    "cart_item_id = 1\n",
    "\n",
    "while len(records) < 500:\n",
    "    customer_id = np.random.randint(1, 21)\n",
    "    product_size_id = np.random.randint(1, 31)\n",
    "\n",
    "    # Check if combination exists\n",
    "    if (customer_id, product_size_id) not in customer_product_pairs:\n",
    "        customer_product_pairs.append((customer_id, product_size_id))\n",
    "        quantity = np.random.randint(1, 6)\n",
    "\n",
    "        records.append({\n",
    "            'CartItemID': cart_item_id,\n",
    "            'CustomerID': customer_id,\n",
    "            'ProductSizeID': product_size_id,\n",
    "            'Quantity': quantity\n",
    "        })\n",
    "        cart_item_id += 1\n",
    "\n",
    "# Create DataFrame\n",
    "df = pd.DataFrame(records)\n",
    "\n",
    "# Sort by CustomerID for better readability\n",
    "df = df.sort_values('CustomerID')\n",
    "\n",
    "path=\"./dataset\"\n",
    "# Export to CSV\n",
    "df.to_csv(f'{path}/cart_data.csv', index=False)\n",
    "\n",
    "print(\"Generated\", len(df), \"unique cart records\")\n",
    "print(df.head())"
   ]
  },
  {
   "cell_type": "markdown",
   "metadata": {},
   "source": [
    "## Generate Orders dataset"
   ]
  },
  {
   "cell_type": "code",
   "execution_count": 7,
   "metadata": {
    "colab": {
     "base_uri": "https://localhost:8080/"
    },
    "executionInfo": {
     "elapsed": 363,
     "status": "ok",
     "timestamp": 1734658806291,
     "user": {
      "displayName": "Lộc Phan Anh",
      "userId": "03780309822244232090"
     },
     "user_tz": -420
    },
    "id": "SxTJuLnzq9tz",
    "outputId": "56356100-40dc-4c28-fba2-623f032936e5"
   },
   "outputs": [
    {
     "name": "stdout",
     "output_type": "stream",
     "text": [
      "Generated 1000 unique orders records\n",
      "   OrderID   DateTime  CustomerID PaymentType      Status TransactionID  \\\n",
      "0        1 2023-04-13          20       VNPay  Processing     TXN744167   \n",
      "1        2 2023-07-08           7      Paypal  Processing     TXN187498   \n",
      "2        3 2023-03-29           4      Paypal   Delivered     TXN429365   \n",
      "3        4 2023-11-05           2      Paypal   Delivered     TXN876997   \n",
      "4        5 2024-01-21           1      Paypal   Delivered     TXN358795   \n",
      "\n",
      "   TotalPrice  \n",
      "0         0.0  \n",
      "1         0.0  \n",
      "2         0.0  \n",
      "3         0.0  \n",
      "4         0.0  \n"
     ]
    }
   ],
   "source": [
    "import pandas as pd\n",
    "import numpy as np\n",
    "from datetime import datetime, timedelta\n",
    "\n",
    "# Set seed\n",
    "np.random.seed(42)\n",
    "\n",
    "# Generate Orders\n",
    "n_orders = 1000\n",
    "start_date = datetime(2023, 1, 1)\n",
    "end_date = datetime(2024, 3, 1)\n",
    "\n",
    "orders = []\n",
    "for order_id in range(1, n_orders + 1):\n",
    "    # Random date between start and end\n",
    "    days_between = (end_date - start_date).days\n",
    "    random_days = np.random.randint(0, days_between)\n",
    "    date = start_date + timedelta(days=random_days)\n",
    "\n",
    "    orders.append({\n",
    "        'OrderID': order_id,\n",
    "        'DateTime': date,\n",
    "        'CustomerID': np.random.randint(1, 21),\n",
    "        'PaymentType': np.random.choice(['VNPay', 'Paypal']),\n",
    "        'Status': np.random.choice(['Pending', 'Processing', 'Shipped', 'Delivered', 'Cancelled'],\n",
    "                                 p=[0.1, 0.2, 0.2, 0.4, 0.1]),\n",
    "        'TransactionID': f'TXN{np.random.randint(100000, 999999)}',\n",
    "    })\n",
    "\n",
    "# Create Orders DataFrame\n",
    "df_orders = pd.DataFrame(orders)\n",
    "\n",
    "# Calculate TotalPrice later after generating OrderItems\n",
    "df_orders['TotalPrice'] = 0.0\n",
    "\n",
    "path=\"./dataset\"\n",
    "# Export Orders\n",
    "df_orders.to_csv(f'{path}/orders.csv', index=False)\n",
    "\n",
    "print(\"Generated\", len(df_orders), \"unique orders records\")\n",
    "print(df_orders.head())"
   ]
  },
  {
   "cell_type": "markdown",
   "metadata": {},
   "source": [
    "## Generate orderItems dataset"
   ]
  },
  {
   "cell_type": "code",
   "execution_count": 8,
   "metadata": {
    "colab": {
     "base_uri": "https://localhost:8080/"
    },
    "executionInfo": {
     "elapsed": 501,
     "status": "ok",
     "timestamp": 1734658879750,
     "user": {
      "displayName": "Lộc Phan Anh",
      "userId": "03780309822244232090"
     },
     "user_tz": -420
    },
    "id": "gEp1UNj5uRDl",
    "outputId": "58d30123-d5b1-48cc-e38b-59045b5cde79"
   },
   "outputs": [
    {
     "name": "stdout",
     "output_type": "stream",
     "text": [
      "Generated 2982 unique order items records\n",
      "   OrderItemID  OrderID  ProductSizeID  Quantity\n",
      "0            1        1             29         3\n",
      "1            2        1              8         5\n",
      "2            3        1             21         2\n",
      "3            4        1             19         3\n",
      "4            5        2             24         5\n"
     ]
    }
   ],
   "source": [
    "import pandas as pd\n",
    "import numpy as np\n",
    "\n",
    "# Set seed\n",
    "np.random.seed(42)\n",
    "\n",
    "# Generate OrderItems\n",
    "order_items = []\n",
    "order_item_id = 1\n",
    "used_combinations = set()\n",
    "\n",
    "# Generate 1-5 items for each order\n",
    "for order_id in range(1, 1001):\n",
    "    n_items = np.random.randint(1, 6)\n",
    "    total_price = 0\n",
    "\n",
    "    for _ in range(n_items):\n",
    "        while True:\n",
    "            product_size_id = np.random.randint(1, 31)\n",
    "            # Check unique combination\n",
    "            if (order_id, product_size_id) not in used_combinations:\n",
    "                used_combinations.add((order_id, product_size_id))\n",
    "                quantity = np.random.randint(1, 6)\n",
    "\n",
    "                order_items.append({\n",
    "                    'OrderItemID': order_item_id,\n",
    "                    'OrderID': order_id,\n",
    "                    'ProductSizeID': product_size_id,\n",
    "                    'Quantity': quantity\n",
    "                })\n",
    "\n",
    "                order_item_id += 1\n",
    "                break\n",
    "\n",
    "# Create OrderItems DataFrame\n",
    "df_order_items = pd.DataFrame(order_items)\n",
    "\n",
    "# Export OrderItems\n",
    "path=\"/content/drive/MyDrive/Học tập/HK241/Ecommerce/Train Models\"\n",
    "df_order_items.to_csv(f'{path}/order_items.csv', index=False)\n",
    "\n",
    "print(\"Generated\", len(df_order_items), \"unique order items records\")\n",
    "print(df_order_items.head())"
   ]
  }
 ],
 "metadata": {
  "colab": {
   "authorship_tag": "ABX9TyMT/mO4CFlZcC/7V/L9i3Eo",
   "mount_file_id": "1ZcDtKVqebKVs70jgmd1eaTnM07i9RaDg",
   "provenance": []
  },
  "kernelspec": {
   "display_name": "Python 3",
   "name": "python3"
  },
  "language_info": {
   "name": "python"
  }
 },
 "nbformat": 4,
 "nbformat_minor": 0
}
